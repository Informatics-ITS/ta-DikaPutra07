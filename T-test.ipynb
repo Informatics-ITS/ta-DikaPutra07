{
 "cells": [
  {
   "cell_type": "code",
   "execution_count": 2,
   "metadata": {},
   "outputs": [
    {
     "name": "stdout",
     "output_type": "stream",
     "text": [
      "T-Statistic: -2.4974807450593963\n",
      "P-Value: 0.08790170882393593\n"
     ]
    }
   ],
   "source": [
    "from scipy import stats\n",
    "\n",
    "# Misal data MSE dari TA-Net FRnet dan iTransformer untuk prediksi langkah 96\n",
    "mse_tanet_frnet = [0.083, 0.175, 0.317, 0.835]  # contoh nilai\n",
    "mse_itransformer = [0.086, 0.180, 0.337, 0.858]  # contoh nilai\n",
    "\n",
    "# Paired T-test\n",
    "t_stat, p_val = stats.ttest_rel(mse_tanet_frnet, mse_itransformer)\n",
    "\n",
    "print(\"T-Statistic:\", t_stat)\n",
    "print(\"P-Value:\", p_val)"
   ]
  }
 ],
 "metadata": {
  "kernelspec": {
   "display_name": "Python 3",
   "language": "python",
   "name": "python3"
  },
  "language_info": {
   "codemirror_mode": {
    "name": "ipython",
    "version": 3
   },
   "file_extension": ".py",
   "mimetype": "text/x-python",
   "name": "python",
   "nbconvert_exporter": "python",
   "pygments_lexer": "ipython3",
   "version": "3.10.8"
  }
 },
 "nbformat": 4,
 "nbformat_minor": 2
}
